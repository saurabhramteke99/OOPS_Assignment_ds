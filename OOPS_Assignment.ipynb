{
  "nbformat": 4,
  "nbformat_minor": 0,
  "metadata": {
    "colab": {
      "provenance": []
    },
    "kernelspec": {
      "name": "python3",
      "display_name": "Python 3"
    },
    "language_info": {
      "name": "python"
    }
  },
  "cells": [
    {
      "cell_type": "markdown",
      "source": [
        "# Python OOPs Assignment\n"
      ],
      "metadata": {
        "id": "IsR5R-CHCGvG"
      }
    },
    {
      "cell_type": "markdown",
      "source": [
        "Que_1. What is Object-Oriented Programming (OOP)?\n",
        "\n",
        "Ans: Object-Oriented Programming (OOP) is a programming paradigm based on the concept of objects, which are instances of classes. It is a way to structure software programs so that they are more modular, reusable, and easier to manage. In OOP, data and the functions that operate on that data are bundled together as objects.\n"
      ],
      "metadata": {
        "id": "PpUGQ7_VCQer"
      }
    },
    {
      "cell_type": "markdown",
      "source": [
        "Que_2.  What is a class in OOP?\n",
        "\n",
        "Ans: In Object-Oriented Programming (OOP), a class is essentially a blueprint or template for creating objects. It defines the structure and behavior that the objects created from it will have. A class encapsulates data (attributes or properties) and methods (functions or behaviors) that operate on that data.\n",
        "\n"
      ],
      "metadata": {
        "id": "49lqjI7xC65b"
      }
    },
    {
      "cell_type": "markdown",
      "source": [
        "Que_3. What is an object in OOP ?\n",
        "\n",
        "Ans: In Object-Oriented Programming (OOP), an object is an instance of a class. While a class serves as a blueprint for creating objects, an object is a specific instantiation of that class, with actual values assigned to its attributes (properties) and the ability to perform actions using its methods (functions)."
      ],
      "metadata": {
        "id": "ZRNV_gaaDYni"
      }
    },
    {
      "cell_type": "markdown",
      "source": [
        "Que_4.  What is the difference between abstraction and encapsulation?\n",
        "\n",
        "Ans:Abstraction and encapsulation are both fundamental concepts in Object-Oriented Programming (OOP), but they serve different purposes and are used in distinct ways. Here's the difference between the two:\n",
        "\n",
        "1)Focus:\n",
        "\n",
        "Abstraction: Focuses on what an object does (its functionality).\n",
        "\n",
        "Encapsulation: Focuses on how the data is protected and accessed within an object.\n",
        "\n",
        "2)Purpose:\n",
        "\n",
        "Abstraction: Simplifies complex systems by hiding unnecessary details and exposing only the essential features.\n",
        "\n",
        "Encapsulation: Protects an object's internal state by restricting direct access to it and controlling how it is modified.\n",
        "\n",
        "3)What is hidden:\n",
        "\n",
        "Abstraction: Hides the implementation details of methods or functionality.\n",
        "\n",
        "Encapsulation: Hides the internal data (attributes) of an object.\n",
        "\n",
        "4) How it’s implemented:\n",
        "\n",
        "Abstraction: Achieved using abstract classes, interfaces, or abstract methods.\n",
        "\n",
        "Encapsulation: Achieved using private variables and public methods (getters and setters).\n",
        "\n",
        "5)Example:\n",
        "\n",
        "Abstraction: You don't need to know how a car's engine works to drive it; you just know how to steer and accelerate.\n",
        "\n",
        "Encapsulation: A car’s speed is stored in a private variable and can only be changed using the accelerate() or brake() methods.\n",
        "\n",
        "6)Goal:\n",
        "\n",
        "Abstraction: To simplify the use of complex systems and focus on high-level functionality.\n",
        "\n",
        "Encapsulation: To protect the object’s internal state and prevent unauthorized changes.\n",
        "\n"
      ],
      "metadata": {
        "id": "9xycU9ftD35K"
      }
    },
    {
      "cell_type": "markdown",
      "source": [
        "Que_5. What are dunder methods in Python ?\n",
        "\n",
        "Ans: Dunder methods (short for \"double underscore\" methods) in Python are special methods that have double underscores at the beginning and end of their names. These methods are used to implement certain behaviors or operations for objects of a class, such as adding two objects together, comparing them, or getting the string representation of an object.\n",
        "\n",
        "These methods are also referred to as magic methods or special methods, and they allow you to define or customize the behavior of built-in operations (like arithmetic operations, comparisons, and more) for objects."
      ],
      "metadata": {
        "id": "Al4pvD47FlxT"
      }
    },
    {
      "cell_type": "markdown",
      "source": [
        "Que_6. Explain the concept of inheritance in OOP ?\n",
        "\n",
        "Ans: In Object-Oriented Programming (OOP), inheritance is a concept that allows a new class (called the subclass or child class) to inherit the attributes and methods of an existing class (called the superclass or parent class). This enables code reusability and establishes a relationship between the parent and child classes. Inheritance helps in creating a hierarchy of classes and allows for easier maintenance and extension of software systems.\n",
        "\n"
      ],
      "metadata": {
        "id": "PETB2xgaGf06"
      }
    },
    {
      "cell_type": "markdown",
      "source": [
        "Que_7. What is polymorphism in OOP ?\n",
        "\n",
        "Ans: In Object-Oriented Programming (OOP), polymorphism is a concept that allows objects of different classes to be treated as objects of a common superclass. The term \"polymorphism\" comes from the Greek words \"poly\" (meaning many) and \"morph\" (meaning form), so it essentially means \"many forms.\"\n",
        "\n",
        "Polymorphism enables a single function or method to operate on different types of objects, giving the ability to call the same method on different objects, and each will respond in its own way based on the object's actual class."
      ],
      "metadata": {
        "id": "tXhy33i_HKKq"
      }
    },
    {
      "cell_type": "markdown",
      "source": [
        "Que_8.  How is encapsulation achieved in Python ?\n",
        "\n",
        "Ans: In Python, encapsulation is primarily achieved through access modifiers. These access modifiers define the visibility or accessibility of attributes and methods within a class. Python uses three types of access modifiers:\n",
        "\n",
        "1)Public (default access modifier):\n",
        "\n",
        "Public attributes and methods are accessible from anywhere — inside and outside the class. In Python, by default, all attributes and methods are public unless specified otherwise.\n",
        "\n",
        "2) Protected :\n",
        "\n",
        "Protected attributes and methods are intended for internal use within the class and its subclasses. While these can still be accessed outside the class (because Python does not strictly enforce access control), it’s a convention to treat them as protected and to avoid direct access from outside the class.\n",
        "\n",
        "In Python, protected attributes and methods are prefixed with a single underscore (_).\n",
        "\n",
        "3) Private :\n",
        "\n",
        "Private attributes and methods are meant to be accessible only within the class. To denote that an attribute or method is private, a double underscore (__) is used as a prefix. In Python, private variables are name-mangled so that they cannot be accessed directly from outside the class.\n",
        "\n",
        "Name mangling involves changing the attribute's name internally to avoid name clashes in subclasses. It effectively makes private attributes harder (though not impossible) to access from outside the class.\n"
      ],
      "metadata": {
        "id": "KmJmDj5NHnqq"
      }
    },
    {
      "cell_type": "markdown",
      "source": [
        "Que_9. What is a constructor in Python ?\n",
        "\n",
        "Ans: In Python, a constructor is a special method used to initialize an object's state when it is created. It is automatically called when a new instance of a class is created. Constructors are typically used to assign initial values to the object's attributes and perform any setup needed for the object to be used.\n",
        "\n",
        "In Python, the constructor method is defined using the special method` __init__.` This method is called the initializer or constructor because it initializes the object's state by setting the values of its attributes when an instance is created."
      ],
      "metadata": {
        "id": "A8Mdh4M8Kbz6"
      }
    },
    {
      "cell_type": "markdown",
      "source": [
        "Que_10.  What are class and static methods in Python ?\n",
        "\n",
        "Ans: 1)A class method is a method that is bound to the class rather than the instance of the class. It takes a cls parameter as its first argument, which refers to the class itself, rather than self which refers to an instance. Class methods can modify class-level attributes and are commonly used to define factory methods, or methods that return instances of the class in a particular way.\n",
        "\n",
        "2)A static method is a method that doesn't depend on class or instance-specific data. It doesn't take self (instance) or cls (class) as the first argument. Static methods are useful for utility functions that don't require access to any attributes or methods of the class or instance but are logically related to the class."
      ],
      "metadata": {
        "id": "VZwSVTQmLAxR"
      }
    },
    {
      "cell_type": "markdown",
      "source": [
        "Que_11. What is method overloading in Python ?\n",
        "\n",
        "Ans: Method overloading refers to the ability to define multiple methods within the same class, but with different parameter types or different numbers of parameters. This allows a class to handle different scenarios or inputs by calling the same method name but with varying argument lists.\n"
      ],
      "metadata": {
        "id": "xLwfO4gFUivE"
      }
    },
    {
      "cell_type": "markdown",
      "source": [
        "Que_12. What is method overriding in OOP ?\n",
        "\n",
        "Ans: Method overriding is a fundamental concept in object-oriented programming (OOP) that allows a subclass to provide a specific implementation of a method that is already defined in its parent class. When a method in a subclass has the same name, same parameters, and same return type as a method in its parent class, the subclass's method overrides the parent class's method.\n",
        "\n",
        "The main purpose of method overriding is to allow the subclass to modify or extend the functionality of the inherited method to better suit its needs, while still retaining the same method signature as the parent class.\n"
      ],
      "metadata": {
        "id": "FNq1o3enW9vW"
      }
    },
    {
      "cell_type": "markdown",
      "source": [
        "Que_13.  What is a property decorator in Python ?\n",
        "\n",
        "Ans: In Python, the @property decorator is used to define getter methods for a class attribute, allowing you to access the method as if it were an attribute. It is a way to create managed attributes, which allows you to add logic to access or modify the attribute without changing how it's used externally.\n",
        "\n",
        "The @property decorator is a part of Python's property mechanism, which is designed to make the code more readable and provide a clean interface for accessing attributes that require additional logic, like validation or computation.\n",
        "\n"
      ],
      "metadata": {
        "id": "HmAK1trPXzv7"
      }
    },
    {
      "cell_type": "markdown",
      "source": [
        "Que_14. Why is polymorphism important in OOP ?\n",
        "\n",
        "Ans : 1)Code Reusability: Polymorphism allows you to use the same interface for different underlying forms. This means you can reuse code and avoid redundancy. For example, a function or method that works with any class type can be written once and used for many different object types. Instead of writing separate code for each class, polymorphism enables you to write general code that works for multiple classes.\n",
        "\n",
        "2)Simplified Code and Increased Readability: Polymorphism simplifies your code by letting you call the same method on different objects, reducing complexity. This also makes the code more readable because you don’t need to remember different method names for each class. Instead, you can use the same method name, regardless of the type of object.\n",
        "\n",
        "Example: If you have a method draw() for multiple shapes like Circle, Rectangle, and Triangle, polymorphism allows you to call draw() on a list of shapes without knowing their exact types.\n",
        "```\n",
        "shapes = [Circle(), Rectangle(), Triangle()]\n",
        "for shape in shapes:\n",
        "    shape.draw()  # Calls the appropriate draw method for each shape\n",
        "\n",
        "```\n",
        "3) Extensibility: Polymorphism facilitates easier code extension. You can introduce new classes that extend the existing functionality, without modifying the existing code. The new classes can define their own version of methods that override the parent class’s behavior, allowing you to add new features or behaviors without altering the existing system.\n",
        "\n",
        "4)Flexibility and Maintainability: Polymorphism enhances flexibility, as it allows the program to select the appropriate method or function at runtime. This ability to choose a method dynamically based on the type of the object allows your program to adapt to new requirements without needing significant rewrites.\n",
        "\n",
        "5) Achieving Dynamic Binding: Polymorphism allows dynamic method binding (or late binding), meaning that the method that gets executed is determined at runtime, based on the object type. This is particularly useful when you are working with collections of objects of different types and want to call the same method on each, but with different behaviors.\n"
      ],
      "metadata": {
        "id": "16mrrCwuZmhq"
      }
    },
    {
      "cell_type": "markdown",
      "source": [
        "Que_15. What is an abstract class in Python ?\n",
        "\n",
        "Ans: An abstract class in Python is a class that cannot be instantiated on its own and serves as a blueprint for other classes. It defines a common interface that must be implemented by its subclasses. Abstract classes are part of the abstract base class (ABC) mechanism in Python, which is defined in the abc module.\n",
        "\n",
        "An abstract class may contain abstract methods, which are methods that have no implementation in the abstract class itself but must be overridden by any subclass. This enforces a consistent interface across all subclasses while allowing them to provide their own specific implementation for the abstract methods."
      ],
      "metadata": {
        "id": "ROaX0odzc8pM"
      }
    },
    {
      "cell_type": "markdown",
      "source": [
        "Que_16.  What are the advantages of OOP ?\n",
        "\n",
        "Ans: Advantages of Object-Oriented Programming (OOP)\n",
        "\n",
        "1)Modularity and Code Reusability:\n",
        "\n",
        "a) OOP organizes code into classes and objects, making it easier to maintain, extend, and reuse.\n",
        "\n",
        "b) Classes and objects can be reused across different parts of the program.\n",
        "\n",
        "2)Encapsulation:\n",
        "\n",
        "a)Hides internal details of objects and only exposes necessary methods.\n",
        "\n",
        "b) Protects object data and ensures valid operations through getter/setter methods.\n",
        "\n",
        "3)Inheritance:\n",
        "\n",
        "a)Allows new classes to reuse, extend, or modify existing code, reducing redundancy.\n",
        "\n",
        "b)Simplifies code maintenance by centralizing common logic in parent classes.\n",
        "\n",
        "4)Polymorphism:\n",
        "\n",
        "a)Enables objects of different classes to be treated as instances of the same class.\n",
        "\n",
        "b)Provides flexibility by allowing different implementations of the same method.\n",
        "\n",
        "5)Improved Maintainability:\n",
        "\n",
        "a)OOP simplifies complex systems by organizing code into manageable objects.\n",
        "\n",
        "b)Changes to one class don't affect others, making updates easier.\n",
        "\n",
        "6)Data Abstraction:\n",
        "\n",
        "a)Hides complex implementation details and shows only necessary information.\n",
        "\n",
        "b)Simplifies interaction by providing clear interfaces for users.\n",
        "\n",
        "7)Scalability and Extensibility:\n",
        "\n",
        "a)Easily add new functionality or classes without altering the existing system.\n",
        "\n",
        "b)OOP's modularity allows easy scaling of software over time.\n",
        "\n",
        "8)Enhanced Collaboration:\n",
        "\n",
        "a)Developers can work independently on different objects, improving teamwork.\n",
        "\n",
        "b)Clear interfaces between classes make it easier to coordinate.\n",
        "\n",
        "9)Security:\n",
        "\n",
        "a)Data within objects is protected, and access is controlled through methods.\n",
        "\n",
        "b)Reduces the risk of unintended data modification.\n",
        "\n",
        "10)Better Code Organization:\n",
        "\n",
        "a)Models real-world entities, making the system structure more intuitive.\n",
        "\n",
        "b)Improves understanding of relationships between objects.\n",
        "\n",
        "In short, OOP promotes reusable, maintainable, and scalable code, improving software design, collaboration, and long-term management."
      ],
      "metadata": {
        "id": "pPi3Sx7Odu8D"
      }
    },
    {
      "cell_type": "markdown",
      "source": [
        "Que_17. What is the difference between a class variable and an instance variable ?\n",
        "\n",
        "Ans: Difference Between Class Variables and Instance Variables are as follws.\n",
        "\n",
        "1) Definition:\n",
        "\n",
        "a)Class Variable: A variable that is shared by all instances of a class. It is defined inside the class but outside of any instance methods (e.g., __init__). Class variables are the same across all instances of the class.\n",
        "\n",
        "b)Instance Variable: A variable that is specific to each instance (object) of the class. It is typically defined inside the __init__ method and is unique to each object created from the class.\n",
        "\n",
        "2) Scope:\n",
        "\n",
        "a)Class Variable: Accessible by all instances of the class. It is bound to the class itself, not to any specific instance.\n",
        "\n",
        "b)Instance Variable: Accessible only through an instance of the class. It is bound to a specific instance.\n",
        "\n",
        "3) Memory Allocation:\n",
        "\n",
        "a)Class Variable: There is only one copy of the class variable, which is shared across all instances of the class. If you change it via one instance, the change is reflected in all instances.\n",
        "\n",
        "b)Instance Variable: Each instance has its own copy of the instance variable. Changing it in one instance does not affect other instances.\n",
        "\n",
        "4) Access:\n",
        "\n",
        "a)Class Variable: Can be accessed using either the class name or an instance of the class.\n",
        "\n",
        "b)Instance Variable: Can only be accessed via an instance of the class."
      ],
      "metadata": {
        "id": "cI-A5b0wf4BD"
      }
    },
    {
      "cell_type": "markdown",
      "source": [
        "Que_18. What is multiple inheritance in Python ?\n",
        "\n",
        "Ans: Multiple inheritance is a feature in Python where a class can inherit from more than one parent class. This allows the derived class (child class) to inherit methods and attributes from multiple base classes, providing a way to combine functionality from several classes into one.\n",
        "\n",
        "Syntax of Multiple Inheritance\n",
        "To define a class with multiple inheritance, you simply list the parent classes in parentheses when defining the child class.\n",
        "\n",
        "\n",
        "```\n",
        "class ChildClass(ParentClass1, ParentClass2):\n",
        "    # Child class can access methods and attributes from both ParentClass1 and ParentClass2\n",
        "    pass\n",
        "\n",
        "```\n",
        "\n"
      ],
      "metadata": {
        "id": "QKcnbndBivNq"
      }
    },
    {
      "cell_type": "markdown",
      "source": [
        "Que_19. Explain the purpose of `‘’__str__’ and ‘__repr__’ ‘ methods in Python`\n",
        "\n",
        "Ans: In Python, both` __str__` and `__repr__` are special methods used to define how objects are represented as strings. Here's a detailed explanation of their purpose and how they differ:\n",
        "\n",
        "1.` __str__` Method:\n",
        "\n",
        "Purpose: The `__str__` method is used to define the \"informal\" or \"user-friendly\" string representation of an object. It is intended to return a human-readable string that describes the object in a way that makes sense to end users.\n",
        "\n",
        "When it's used: It is used by functions like print() and str() to display the object in a human-readable form.\n",
        "\n",
        "Goal: To present a clean, readable output that describes the object to the user in a clear and simple manner.\n",
        "\n",
        "2. `__repr__` Method:\n",
        "\n",
        "Purpose: The `__repr__` method is used to define the \"formal\" or \"developer-friendly\" string representation of an object. It is intended for debugging and logging purposes, and should ideally provide a detailed, unambiguous string representation of the object that can be used to recreate the object (or at least convey enough information about it).\n",
        "\n",
        "When it's used: It is used by the repr() function and the interactive interpreter to display an object’s representation when the object is evaluated (e.g., when typed directly in the Python shell).\n",
        "\n",
        "Goal: To provide a precise and unambiguous string representation of the object, ideally one that could be used to reconstruct the object using eval().\n",
        "\n"
      ],
      "metadata": {
        "id": "wzbHkqOeknnB"
      }
    },
    {
      "cell_type": "markdown",
      "source": [
        "Que_20. What is the significance of the `‘super()’` function in Python ?\n",
        "\n",
        "Ans:Significance and Purpose of super()\n",
        "\n",
        "1)Calling Parent Class Methods:\n",
        "\n",
        "The main purpose of super() is to allow a subclass to call methods from its parent class. This is particularly useful when overriding methods in the subclass and still wanting to call the method from the parent class.\n",
        "\n",
        "2)Avoiding Explicit Parent Class Names:\n",
        "\n",
        "super() helps to avoid explicitly referring to the parent class name in the method calls, making your code more flexible and maintainable. This becomes important in more complex inheritance hierarchies, where multiple classes might need to be accessed dynamically.\n",
        "\n",
        "3)Method Resolution Order (MRO):\n",
        "\n",
        "In Python, the method resolution order is important when dealing with multiple inheritance. super() follows the MRO and ensures that the correct method is called in the inheritance chain, especially when multiple classes are involved.\n",
        "\n",
        "4)Calling the Parent Class's `__init__()` Method:\n",
        "\n",
        "In object-oriented programming, the `__init__()` method is used to initialize a new instance of a class. By using super(), a subclass can call the `__init__()` method of its superclass and initialize its parent class attributes.\n",
        "\n",
        "5)Supports Multiple Inheritance:\n",
        "\n",
        "Python's super() works in a multiple inheritance scenario and ensures that each class in the hierarchy is called in a well-defined order, avoiding the \"diamond problem.\""
      ],
      "metadata": {
        "id": "8JyfqVpInumR"
      }
    },
    {
      "cell_type": "markdown",
      "source": [
        "Que_21.  What is the significance of the `__del__` method in Python ?\n",
        "\n",
        "Ans: the significance of` __del__` method are as follws.\n",
        "\n",
        "1)Object Cleanup:\n",
        "\n",
        "The` __del__` method allows you to define custom cleanup logic when an object is about to be destroyed. This can be helpful for releasing resources, such as closing files, database connections, or network sockets, which the object may be holding.\n",
        "\n",
        "2) Resource Management:\n",
        "\n",
        "It is particularly useful when you need to manage non-memory resources, like closing open files, releasing locks, or cleaning up external resources that Python's garbage collector won't automatically handle.\n",
        "\n",
        "3) Automatically Called:\n",
        "\n",
        "The `__del__` method is automatically called when the object's reference count drops to zero. Python uses automatic memory management (garbage collection), and `__del__` is invoked as part of this process. You typically don’t need to manually call it.\n",
        "\n",
        "4) When Is It Called?:\n",
        "\n",
        "The `__del__` method is called when the object is about to be garbage collected, which typically happens when the object goes out of scope or when there are no remaining references to it.\n",
        "\n",
        "5) Explicit Cleanup:\n",
        "\n",
        "While Python's garbage collector does most of the cleanup automatically,` __del__` allows you to provide custom behavior for cases where you need to release resources or perform other actions before an object is destroyed."
      ],
      "metadata": {
        "id": "1G1m2I1bpsQb"
      }
    },
    {
      "cell_type": "markdown",
      "source": [
        "Que_22.  What is the difference between @staticmethod and @classmethod in Python ?\n",
        "\n",
        "Ans: 1. Purpose\n",
        "\n",
        "@staticmethod:\n",
        "a)A @staticmethod is used for methods that do not need access to the instance (self) or the class (cls).\n",
        "\n",
        "b)It behaves like a regular function, but it belongs to the class's namespace. This method doesn't have access to any instance-specific or class-specific data.\n",
        "\n",
        "c)Use case: Ideal for utility functions that don't require access to the class or instance.\n",
        "\n",
        "@classmethod:\n",
        "\n",
        "a)A @classmethod is used for methods that need to interact with or modify the class itself.\n",
        "\n",
        "b)It takes a class reference (cls) as its first argument, allowing it to modify or access class-level attributes and methods.\n",
        "\n",
        "c) Use case: Ideal for factory methods or when you need to modify the state of the class itself rather than the instance.\n",
        "\n",
        "2. First Argument\n",
        "@staticmethod:\n",
        "\n",
        "a)A static method doesn't take a reference to the instance (self) or the class (cls).\n",
        "\n",
        "b)It only takes the arguments that are passed explicitly when the method is called, just like a regular function.\n",
        "\n",
        "@classmethod:\n",
        "\n",
        "a)A class method takes a reference to the class (cls) as its first argument.\n",
        "\n",
        "b)This allows it to access and modify class-level attributes, but it does not have access to instance-specific data (self).\n",
        "\n",
        "3. Invocation\n",
        "\n",
        "@staticmethod:\n",
        "\n",
        "a)Static methods can be called using the class or the instance, but they don’t require an instance or class reference.\n",
        "\n",
        "@classmethod:\n",
        "\n",
        "a)Class methods are typically called using the class itself, but can also be called using an instance. However, it always receives the class as its first argument.\n",
        "\n"
      ],
      "metadata": {
        "id": "HYLSMTH_srOR"
      }
    },
    {
      "cell_type": "markdown",
      "source": [
        "Que_23. How does polymorphism work in Python with inheritance ?\n",
        "\n",
        "Ans:Polymorphism in Python refers to the ability to use a single interface to represent different types of objects. With inheritance, polymorphism allows a derived class to override methods from its base class, enabling different behavior for objects of the derived class while still using the same method names from the base class.\n",
        "\n",
        "Here's a breakdown of how polymorphism works in Python with inheritance:\n",
        "\n",
        "1. Method Overriding:\n",
        "When a subclass inherits from a base class, it can override methods of the base class to provide its own specific implementation. This is a key feature of polymorphism — the same method name can have different behaviors depending on the class of the object.\n",
        "\n",
        "2. Dynamic Dispatch:\n",
        "Python determines at runtime which method to call based on the type of the object, not the type of the reference (the variable that holds the object). This is called dynamic dispatch or late binding.\n",
        "\n"
      ],
      "metadata": {
        "id": "SX2Us4oawNmg"
      }
    },
    {
      "cell_type": "markdown",
      "source": [
        "Que_24. What is method chaining in Python OOP ?\n",
        "\n",
        "Ans: Method chaining in Python (and in object-oriented programming in general) refers to the practice of calling multiple methods on the same object in a single statement, where each method returns the object itself (or another object) to allow further method calls to be chained together. This is possible because the methods are designed to return the object instance (self in the case of class methods), which allows you to chain multiple calls on the same object.\n",
        "\n",
        "How Method Chaining Works:\n",
        "When you define methods in a class that perform some operations and return the object itself (self), you can chain the calls. Each method call performs an operation and then returns the object, so that you can call the next method in the chain."
      ],
      "metadata": {
        "id": "0_XklJ2n--2O"
      }
    },
    {
      "cell_type": "markdown",
      "source": [
        "Que_25.  What is the purpose of the `__call__` method in Python?\n",
        "\n",
        "Ans: Purpose of __call__:\n",
        "The primary purpose of the __call__ method is to define behavior for when an instance of a class is invoked like a function. This is useful when you want an object to perform some action when it is \"called\" directly, without needing to use explicit method calls.\n",
        "\n",
        "How it works:\n",
        "When you define __call__ in a class, Python allows instances of that class to be called using parentheses, just like a function. The __call__ method gets invoked when you use the parentheses syntax, and you can define what should happen inside this method."
      ],
      "metadata": {
        "id": "WlWK1ZAUBC_m"
      }
    },
    {
      "cell_type": "markdown",
      "source": [
        "# Practical Questions\n"
      ],
      "metadata": {
        "id": "XIvW5kP0C0JF"
      }
    },
    {
      "cell_type": "code",
      "source": [
        "#1. Create a parent class Animal with a method speak() that prints a generic message. Create a child class Dog\n",
        "# that overrides the speak() method to print \"Bark!\".\n",
        "\n",
        "# Parent class\n",
        "class Animal:\n",
        "    def speak(self):\n",
        "        print(\"The animal makes a sound.\")\n",
        "\n",
        "# Child class\n",
        "class Dog(Animal):\n",
        "    def speak(self):\n",
        "        print(\"Bark!\")\n",
        "\n",
        "# Creating instances of both classes\n",
        "animal = Animal()\n",
        "dog = Dog()\n",
        "\n",
        "# Calling speak() method on both instances\n",
        "animal.speak()  # Outputs: The animal makes a sound.\n",
        "dog.speak()     # Outputs: Bark!\n"
      ],
      "metadata": {
        "colab": {
          "base_uri": "https://localhost:8080/"
        },
        "id": "XEa7PnpsC9Ge",
        "outputId": "5cc3f39b-8615-415c-ec4b-c4c364749c80"
      },
      "execution_count": null,
      "outputs": [
        {
          "output_type": "stream",
          "name": "stdout",
          "text": [
            "The animal makes a sound.\n",
            "Bark!\n"
          ]
        }
      ]
    },
    {
      "cell_type": "code",
      "source": [
        "# Que_2.  Write a program to create an abstract class Shape with a method area(). Derive classes Circle and Rectangle\n",
        "# from it and implement the area() method in both.\n",
        "\n",
        "# Ans:\n",
        "\n",
        "from abc import ABC, abstractmethod\n",
        "import math\n",
        "\n",
        "# Abstract base class\n",
        "class Shape(ABC):\n",
        "    @abstractmethod\n",
        "    def area(self):\n",
        "        pass  # Abstract method, no implementation here\n",
        "\n",
        "# Derived class: Circle\n",
        "class Circle(Shape):\n",
        "    def __init__(self, radius):\n",
        "        self.radius = radius\n",
        "\n",
        "    def area(self):\n",
        "        return math.pi * self.radius ** 2  # Formula for the area of a circle: πr²\n",
        "\n",
        "# Derived class: Rectangle\n",
        "class Rectangle(Shape):\n",
        "    def __init__(self, width, height):\n",
        "        self.width = width\n",
        "        self.height = height\n",
        "\n",
        "    def area(self):\n",
        "        return self.width * self.height  # Formula for the area of a rectangle: width * height\n",
        "\n",
        "# Example usage\n",
        "circle = Circle(5)\n",
        "rectangle = Rectangle(4, 6)\n",
        "\n",
        "# Calling the area() method on both objects\n",
        "print(f\"Area of circle: {circle.area():.2f}\")\n",
        "print(f\"Area of rectangle: {rectangle.area()}\")\n",
        "\n"
      ],
      "metadata": {
        "colab": {
          "base_uri": "https://localhost:8080/"
        },
        "id": "3Y9IjO2bFCOt",
        "outputId": "07cd5356-9f53-4480-d9f5-4e8c41d9371d"
      },
      "execution_count": null,
      "outputs": [
        {
          "output_type": "stream",
          "name": "stdout",
          "text": [
            "Area of circle: 78.54\n",
            "Area of rectangle: 24\n"
          ]
        }
      ]
    },
    {
      "cell_type": "code",
      "source": [
        "# Que_3.  Implement a multi-level inheritance scenario where a class Vehicle has an attribute type. Derive a class Car\n",
        "# and further derive a class ElectricCar that adds a battery attribute.\n",
        "\n",
        "\n",
        "# Parent class: Vehicle\n",
        "class Vehicle:\n",
        "    def __init__(self, type):\n",
        "        self.type = type  # Attribute for the type of vehicle\n",
        "\n",
        "    def display_type(self):\n",
        "        print(f\"Vehicle type: {self.type}\")\n",
        "\n",
        "# Derived class: Car\n",
        "class Car(Vehicle):\n",
        "    def __init__(self, type, brand):\n",
        "        super().__init__(type)  # Initialize the parent class (Vehicle) with type\n",
        "        self.brand = brand  # Attribute for the brand of the car\n",
        "\n",
        "    def display_info(self):\n",
        "        print(f\"Car brand: {self.brand}\")\n",
        "        self.display_type()  # Call the display_type() method from the parent class\n",
        "\n",
        "# Further derived class: ElectricCar\n",
        "class ElectricCar(Car):\n",
        "    def __init__(self, type, brand, battery):\n",
        "        super().__init__(type, brand)  # Initialize the parent class (Car) with type and brand\n",
        "        self.battery = battery  # Attribute for the battery size\n",
        "\n",
        "    def display_battery(self):\n",
        "        print(f\"Battery size: {self.battery} kWh\")\n",
        "\n",
        "# Example usage\n",
        "electric_car = ElectricCar(\"Electric\", \"Tesla\", 75)\n",
        "\n",
        "# Calling methods on the ElectricCar object\n",
        "electric_car.display_info()  # Displays the brand and type of the vehicle\n",
        "electric_car.display_battery()  # Displays the battery size\n",
        "\n"
      ],
      "metadata": {
        "colab": {
          "base_uri": "https://localhost:8080/"
        },
        "id": "bfFDO9-QJvKV",
        "outputId": "cd2f7776-abbe-4536-8743-2066bf877513"
      },
      "execution_count": null,
      "outputs": [
        {
          "output_type": "stream",
          "name": "stdout",
          "text": [
            "Car brand: Tesla\n",
            "Vehicle type: Electric\n",
            "Battery size: 75 kWh\n"
          ]
        }
      ]
    },
    {
      "cell_type": "code",
      "source": [
        "#Que_4.  Demonstrate polymorphism by creating a base class Bird with a method fly(). Create two derived classes\n",
        "# Sparrow and Penguin that override the fly() method.?\n",
        "\n",
        "class Bird:\n",
        "  def fly(self):\n",
        "    print(\"Bird can fly\")\n",
        "\n",
        "#derived class\n",
        "\n",
        "class Sparrow(Bird):\n",
        "  def fly(self):\n",
        "    print(\"Sparow can fly\")\n",
        "\n",
        "class Penguin(Bird):\n",
        "  def fly(self):\n",
        "    print(\"Penguin can not fly\")\n",
        "\n",
        "def bird_fly(bird: Bird):\n",
        "    bird.fly()\n",
        "\n",
        "# creating instances for sparrow and penguin\n",
        "\n",
        "sparrow = Sparrow()\n",
        "penguin = Penguin()\n",
        "\n",
        "\n",
        "\n"
      ],
      "metadata": {
        "id": "W9KhaF0FTQl6"
      },
      "execution_count": null,
      "outputs": []
    },
    {
      "cell_type": "code",
      "source": [
        "bird_fly(sparrow)\n",
        "bird_fly(penguin)"
      ],
      "metadata": {
        "colab": {
          "base_uri": "https://localhost:8080/"
        },
        "id": "sTjwqkRUeNfZ",
        "outputId": "5b8fc97c-6535-4e05-df3a-dcb25e4c92ce"
      },
      "execution_count": null,
      "outputs": [
        {
          "output_type": "stream",
          "name": "stdout",
          "text": [
            "Sparow can fly\n",
            "Penguin can not fly\n"
          ]
        }
      ]
    },
    {
      "cell_type": "code",
      "source": [
        "# Que_5.  Write a program to demonstrate encapsulation by creating a class BankAccount with private attributes\n",
        "# balance and methods to deposit, withdraw, and check balance.\n",
        "\n",
        "class BankAccount:\n",
        "  def __init__(self,initial_balance = 0):\n",
        "\n",
        "    self.__balance = initial_balance\n",
        "\n",
        "#method to deposit money\n",
        "  def deposite(self,amount):\n",
        "    if amount > 0 :\n",
        "      self.__balance += amount\n",
        "      print(f\"Deposited amount{amount},current_balance: {self.__balance}\")\n",
        "    else:\n",
        "      print(\"Deposited mount must be positive.\")\n",
        "\n",
        "#method to withdraw money\n",
        "  def withdraw(self,amount):\n",
        "    if amount > 0 and amount <= self.__balance:\n",
        "       self.__balance -=  amount\n",
        "       print(f\"withdraw_amount: {amount}, curent_balance: {self.__balance}\")\n",
        "\n",
        "    elif amount > self.__balance:\n",
        "      print(\"Insufficient funds\")\n",
        "\n",
        "    else:\n",
        "      print(\"Amount must be positive\")\n",
        "\n",
        "  def get_balance(self):\n",
        "    return self.__balance\n",
        "\n",
        "\n",
        "\n"
      ],
      "metadata": {
        "id": "-eCSK_JbedOA"
      },
      "execution_count": null,
      "outputs": []
    },
    {
      "cell_type": "code",
      "source": [
        "account = BankAccount(1000)\n",
        "account.deposite(500)\n"
      ],
      "metadata": {
        "colab": {
          "base_uri": "https://localhost:8080/"
        },
        "id": "J0rz8Mhsk9yw",
        "outputId": "8898faf3-d154-4f0a-b6a5-55638c3224d4"
      },
      "execution_count": null,
      "outputs": [
        {
          "output_type": "stream",
          "name": "stdout",
          "text": [
            "Deposited amount500,current_balance: 1500\n"
          ]
        }
      ]
    },
    {
      "cell_type": "code",
      "source": [
        "account.withdraw(700)"
      ],
      "metadata": {
        "colab": {
          "base_uri": "https://localhost:8080/"
        },
        "id": "-gGghTZAlGzH",
        "outputId": "a7825015-55cd-4cd9-f170-02028f780c3f"
      },
      "execution_count": null,
      "outputs": [
        {
          "output_type": "stream",
          "name": "stdout",
          "text": [
            "withdraw_amount: 700, curent_balance: 100\n"
          ]
        }
      ]
    },
    {
      "cell_type": "code",
      "source": [
        "account.deposite(1000000)"
      ],
      "metadata": {
        "colab": {
          "base_uri": "https://localhost:8080/"
        },
        "id": "fBJcAGI5lPJf",
        "outputId": "578715fd-5af9-461f-e1cb-14cc96785d88"
      },
      "execution_count": null,
      "outputs": [
        {
          "output_type": "stream",
          "name": "stdout",
          "text": [
            "Deposited amount1000000,current_balance: 1000100\n"
          ]
        }
      ]
    },
    {
      "cell_type": "code",
      "source": [
        "# Que_6.Demonstrate runtime polymorphism using a method play() in a base class Instrument. Derive classes Guitar\n",
        "# and Piano that implement their own version of play().\n",
        "\n",
        "class Instrument:\n",
        "  def play(self):\n",
        "    print(\"Instument is playing\")\n",
        "\n",
        "# Derived class\n",
        "\n",
        "class Guiter(Instrument):\n",
        "  def play(self):\n",
        "    print(\"Guiter is strumming\")\n",
        "\n",
        "class Piano(Instrument):\n",
        "  def play(self):\n",
        "    print(\"Piano is playing\")\n",
        "\n",
        "def perform_play(instrument):\n",
        "  instrument.play()\n",
        "\n",
        "guiter = Guiter()\n",
        "piano = Piano()"
      ],
      "metadata": {
        "id": "vrktbu4xmCsP"
      },
      "execution_count": 3,
      "outputs": []
    },
    {
      "cell_type": "code",
      "source": [
        "perform_play(guiter)\n",
        "perform_play(piano)"
      ],
      "metadata": {
        "colab": {
          "base_uri": "https://localhost:8080/"
        },
        "id": "GHeCPxxDMocM",
        "outputId": "faed0bb2-4a4d-47f8-c822-c1c6c1e5fef9"
      },
      "execution_count": 5,
      "outputs": [
        {
          "output_type": "stream",
          "name": "stdout",
          "text": [
            "Guiter is strumming\n",
            "Piano is playing\n"
          ]
        }
      ]
    },
    {
      "cell_type": "code",
      "source": [
        "# Que_7.  Create a class MathOperations with a class method add_numbers() to add two numbers and a static method subtract_numbers() to subtract two numbers.\n",
        "\n",
        "class MathOperations:\n",
        "  @classmethod\n",
        "  def add_numbers(cls,a,b):\n",
        "    return a + b\n",
        "\n",
        "  @staticmethod\n",
        "  def subtract_numbers(a,b):\n",
        "    return a - b\n",
        "\n"
      ],
      "metadata": {
        "id": "h_QepKhkMvsM"
      },
      "execution_count": 8,
      "outputs": []
    },
    {
      "cell_type": "code",
      "source": [
        "  sum = MathOperations.add_numbers(100,25)\n",
        "  differance = MathOperations.subtract_numbers(100,25)"
      ],
      "metadata": {
        "id": "I76714LbPzzc"
      },
      "execution_count": 9,
      "outputs": []
    },
    {
      "cell_type": "code",
      "source": [
        "print(\"Sum:\",sum)\n",
        "print(\"Differance:\",differance)"
      ],
      "metadata": {
        "colab": {
          "base_uri": "https://localhost:8080/"
        },
        "id": "jOjp3f2AP7sD",
        "outputId": "f2247efd-dd64-483f-aa50-4f09dfdd449f"
      },
      "execution_count": 11,
      "outputs": [
        {
          "output_type": "stream",
          "name": "stdout",
          "text": [
            "Sum: 125\n",
            "Differance: 75\n"
          ]
        }
      ]
    },
    {
      "cell_type": "code",
      "source": [
        "#Que_8.  Implement a class Person with a class method to count the total number of persons created.\n",
        "\n",
        "class Person:\n",
        "  count = 0\n",
        "  def __init__(self,name):\n",
        "    self.name = name\n",
        "    Person.count += 1\n",
        "\n",
        "\n",
        "  @classmethod\n",
        "  def get_person_count(cls):\n",
        "    return cls.count\n",
        "\n"
      ],
      "metadata": {
        "id": "6l2fqZ5ZQWS1"
      },
      "execution_count": 13,
      "outputs": []
    },
    {
      "cell_type": "code",
      "source": [
        "p1 = Person(\"saurabh\")\n",
        "p2 = Person(\"prajakta\")\n",
        "p3 = Person(\"sagar\")\n",
        "p4 = Person(\"sayali\")\n",
        "p5 = Person(\"kavita\")"
      ],
      "metadata": {
        "id": "ccNNxz60St6D"
      },
      "execution_count": 14,
      "outputs": []
    },
    {
      "cell_type": "code",
      "source": [
        "print(\"Total persons created:\",Person.get_person_count())"
      ],
      "metadata": {
        "colab": {
          "base_uri": "https://localhost:8080/"
        },
        "id": "1kkFwrfxTGu8",
        "outputId": "8d3545d8-61cc-4590-e2af-fa70c2045dc9"
      },
      "execution_count": 17,
      "outputs": [
        {
          "output_type": "stream",
          "name": "stdout",
          "text": [
            "Total persons created: 5\n"
          ]
        }
      ]
    },
    {
      "cell_type": "code",
      "source": [
        "#Que_9.  Write a class Fraction with attributes numerator and denominator. Override the str method to display the fraction as \"numerator/denominator\".\n",
        "\n",
        "class Fraction:\n",
        "  def __init__(self,numerator,denominator):\n",
        "    self.numerator = numerator\n",
        "    self.denominator = denominator\n",
        "\n",
        "  def __str__(self):\n",
        "    return f\"{self.numerator}/{self.denominator}\"\n",
        "\n"
      ],
      "metadata": {
        "id": "_tVtBLbnT_1c"
      },
      "execution_count": 18,
      "outputs": []
    },
    {
      "cell_type": "code",
      "source": [
        "fraction_1 = Fraction(100,200)\n",
        "fraction_2 = Fraction(300,600)"
      ],
      "metadata": {
        "id": "y_j6rNa2V9Cb"
      },
      "execution_count": 19,
      "outputs": []
    },
    {
      "cell_type": "code",
      "source": [
        "print(fraction_1)\n",
        "print(fraction_2)"
      ],
      "metadata": {
        "colab": {
          "base_uri": "https://localhost:8080/"
        },
        "id": "IZsQFYS-WJna",
        "outputId": "27e8777b-475f-4c7f-fa24-c1593eadc2cd"
      },
      "execution_count": 20,
      "outputs": [
        {
          "output_type": "stream",
          "name": "stdout",
          "text": [
            "100/200\n",
            "300/600\n"
          ]
        }
      ]
    },
    {
      "cell_type": "code",
      "source": [
        "#Que_10.  Demonstrate operator overloading by creating a class Vector and overriding the add method to add two vectors.\n",
        "\n",
        "class Vector:\n",
        "  def __init__(self,x,y,z):\n",
        "    self.x = x\n",
        "    self.y = y\n",
        "    self.z = z\n",
        "\n",
        "  def __add__(self,other):\n",
        "    return Vector(self.x + other.x,self.y + other.y,self.z + other.z)\n",
        "\n",
        "  def __str__(self):\n",
        "    return f\"Vector({self.x},{self.y},{self.z}) \"\n"
      ],
      "metadata": {
        "id": "UaXwMgJGWPwa"
      },
      "execution_count": 27,
      "outputs": []
    },
    {
      "cell_type": "code",
      "source": [
        "v1 = Vector(10,20,30)\n",
        "v2 = Vector(30,40,50)\n",
        "v3 = v1 + v2\n",
        "print(v3)"
      ],
      "metadata": {
        "colab": {
          "base_uri": "https://localhost:8080/"
        },
        "id": "7LRX_mojYm1s",
        "outputId": "f57bc2b3-6cf4-4dbd-b0cf-d0dca6fc26d7"
      },
      "execution_count": 26,
      "outputs": [
        {
          "output_type": "stream",
          "name": "stdout",
          "text": [
            "Vector(40,60,80) \n"
          ]
        }
      ]
    },
    {
      "cell_type": "code",
      "source": [
        "# Que_11. Create a class Person with attributes name and age. Add a method greet() that prints \"Hello, my name is {name} and I am {age} years old.\"\n",
        "\n",
        "class Person:\n",
        "  def __init__(self,name,age):\n",
        "    self.name = name\n",
        "    self.age = age\n",
        "\n",
        "  def greet(self):\n",
        "    print(f\"Hello, my name is {self.name} and I am {self.age} years old.\")"
      ],
      "metadata": {
        "id": "EF5AWH3LY34K"
      },
      "execution_count": 35,
      "outputs": []
    },
    {
      "cell_type": "code",
      "source": [
        "p1 =  Person(\"Saurabh\",25)\n",
        "p1.greet()"
      ],
      "metadata": {
        "colab": {
          "base_uri": "https://localhost:8080/"
        },
        "id": "WEM0ahlIb84i",
        "outputId": "48b4efa0-a7d4-42d8-cb2d-7226a4c5d8e5"
      },
      "execution_count": 39,
      "outputs": [
        {
          "output_type": "stream",
          "name": "stdout",
          "text": [
            "Hello, my name is Saurabh and I am 25 years old.\n"
          ]
        }
      ]
    },
    {
      "cell_type": "code",
      "source": [
        "#Que_12. Implement a class Student with attributes name and grades. Create a method average_grade() to compute the average of the grades.\n",
        "\n",
        "class Student:\n",
        "    def __init__(self, name, grades):\n",
        "        self.name = name\n",
        "        self.grades = grades\n",
        "\n",
        "    def average_grade(self):\n",
        "        if not self.grades:\n",
        "            return 0\n",
        "        total = 0\n",
        "        for grade in self.grades:\n",
        "            total += grade\n",
        "        return total / len(self.grades)\n",
        "\n",
        "\n"
      ],
      "metadata": {
        "id": "dllqFRBQcOrR"
      },
      "execution_count": 56,
      "outputs": []
    },
    {
      "cell_type": "code",
      "source": [
        "s1 = Student(\"John\", [85, 90, 78, 92])\n",
        "print(f\"{s1.name}'s average grade is: {s1.average_grade():.2f}\")\n"
      ],
      "metadata": {
        "colab": {
          "base_uri": "https://localhost:8080/"
        },
        "id": "cDOkULVojIJZ",
        "outputId": "30082944-a29a-46f0-80c7-294a12cc86a3"
      },
      "execution_count": 57,
      "outputs": [
        {
          "output_type": "stream",
          "name": "stdout",
          "text": [
            "John's average grade is: 86.25\n"
          ]
        }
      ]
    },
    {
      "cell_type": "code",
      "source": [
        "# Que_13. Create a class Rectangle with methods set_dimensions() to set the dimensions and area() to calculate the area.\n",
        "\n",
        "class Rectangle:\n",
        "  def __init__(self):\n",
        "    self.length = 0\n",
        "    self.width = 0\n",
        "\n",
        "  def set_diemensions(self,length,width):\n",
        "    self.length = length\n",
        "    self.width = width\n",
        "\n",
        "  def area(self):\n",
        "    return self.length * self.width\n"
      ],
      "metadata": {
        "id": "lsESyTF1kIpY"
      },
      "execution_count": 58,
      "outputs": []
    },
    {
      "cell_type": "code",
      "source": [
        "rect = Rectangle()\n",
        "rect.set_diemensions(10,5)\n",
        "print(f\"Area of rectangle:{rect.area()}\")"
      ],
      "metadata": {
        "colab": {
          "base_uri": "https://localhost:8080/"
        },
        "id": "ZQXYj4OQlzN5",
        "outputId": "d98f9744-5402-4dd4-bcb3-d36a39f7f2a6"
      },
      "execution_count": 62,
      "outputs": [
        {
          "output_type": "stream",
          "name": "stdout",
          "text": [
            "Area of rectangle:50\n"
          ]
        }
      ]
    },
    {
      "cell_type": "code",
      "source": [
        "#Que_14. Create a class Employee with a method calculate_salary() that computes the salary based on hours worked and hourly rate. Create a derived class Manager that adds a bonus to the salary.\n",
        "\n",
        "class Employee:\n",
        "  def __init__(self,name,hours_worked,hoursly_rate):\n",
        "    self.name = name\n",
        "    self.hours_worked = hours_worked\n",
        "    self.hoursly_rate = hoursly_rate\n",
        "\n",
        "  def calculate_salary(self):\n",
        "    return self.hours_worked * self.hoursly_rate\n",
        "\n",
        "class Manager(Employee):\n",
        "   def __init__(self,name,hours_worked,hoursly_rate,bonus):\n",
        "      super().__init__(name,hours_worked,hoursly_rate)\n",
        "      self.bonus = bonus\n",
        "\n",
        "   def calculate_salary(self):\n",
        "      base_salary = super().calculate_salary()\n",
        "      return base_salary + self.bonus\n",
        "\n",
        "\n",
        "\n",
        "\n",
        ""
      ],
      "metadata": {
        "id": "yxDhq-ifmJRw"
      },
      "execution_count": 79,
      "outputs": []
    },
    {
      "cell_type": "code",
      "source": [
        "emp = Employee(\"Alice\", 40, 900)\n",
        "mgr = Manager(\"Bob\", 40, 900, 5000)"
      ],
      "metadata": {
        "id": "L6oNw_ODr-KI"
      },
      "execution_count": 87,
      "outputs": []
    },
    {
      "cell_type": "code",
      "source": [
        "print(f\"{emp.name}`s salary is : {emp.calculate_salary()}\")\n",
        "print(f\"{mgr.name}` add bonus and salary is:{mgr.calculate_salary()}Rs\")"
      ],
      "metadata": {
        "colab": {
          "base_uri": "https://localhost:8080/"
        },
        "id": "kV4OKvoWsD1S",
        "outputId": "4db0b367-c962-4339-84e9-698abc7408f3"
      },
      "execution_count": 89,
      "outputs": [
        {
          "output_type": "stream",
          "name": "stdout",
          "text": [
            "Alice`s salary is : 36000\n",
            "Bob` add bonus and salary is:41000Rs\n"
          ]
        }
      ]
    },
    {
      "cell_type": "code",
      "source": [
        "# Que_15. Create a class Product with attributes name, price, and quantity. Implement a method total_price() that calculates the total price of the product.\n",
        "\n",
        "class Product:\n",
        "  def __init__(self,name,price,quantity):\n",
        "    self.name = name\n",
        "    self.price = price\n",
        "    self.quantity = quantity\n",
        "\n",
        "  def total_price(self):\n",
        "    return self.price * self.quantity\n",
        "\n"
      ],
      "metadata": {
        "id": "JRFC_FnktXtf"
      },
      "execution_count": 90,
      "outputs": []
    },
    {
      "cell_type": "code",
      "source": [
        "p1 = Product(\"laptop\",50000,10)"
      ],
      "metadata": {
        "id": "p8jClQrguJ3_"
      },
      "execution_count": 91,
      "outputs": []
    },
    {
      "cell_type": "code",
      "source": [
        "print(f\"Total price of {p1.name} is : {p1.total_price()}\")"
      ],
      "metadata": {
        "colab": {
          "base_uri": "https://localhost:8080/"
        },
        "id": "C1PG8nj5ubUm",
        "outputId": "8306a0b3-b637-407a-f893-6e2867348e3d"
      },
      "execution_count": 97,
      "outputs": [
        {
          "output_type": "stream",
          "name": "stdout",
          "text": [
            "Total price of laptop is : 500000\n"
          ]
        }
      ]
    },
    {
      "cell_type": "code",
      "source": [
        "from ast import Import\n",
        "# Que_16. Create a class Animal with an abstract method sound(). Create two derived classes Cow and Sheep that implement the sound() method.\n",
        "\n",
        "from abc import ABC,abstractmethod\n",
        "\n",
        "class Animal:\n",
        "  @abstractmethod\n",
        "  def sound(self):\n",
        "    pass\n",
        "\n",
        "class Cow(Animal):\n",
        "  def sound(self):\n",
        "    return \"Mooo\"\n",
        "\n",
        "class Sheep(Animal):\n",
        "  def sound(self):\n",
        "    return \"Baaaaaaa\"\n",
        "\n"
      ],
      "metadata": {
        "id": "u7Tn4lPNvD2W"
      },
      "execution_count": 99,
      "outputs": []
    },
    {
      "cell_type": "code",
      "source": [
        "cow = Cow()\n",
        "sheep = Sheep()"
      ],
      "metadata": {
        "id": "JpxBPAyTw6Sx"
      },
      "execution_count": 101,
      "outputs": []
    },
    {
      "cell_type": "code",
      "source": [
        "print(f\"cow sounds:{cow.sound()}\")\n",
        "print(f\"sheep sounds: {sheep.sound()}\")"
      ],
      "metadata": {
        "colab": {
          "base_uri": "https://localhost:8080/"
        },
        "id": "9gaVKS9IxFH2",
        "outputId": "6c845daa-46f2-4239-fefa-09f58fd1a88a"
      },
      "execution_count": 107,
      "outputs": [
        {
          "output_type": "stream",
          "name": "stdout",
          "text": [
            "cow sounds:Mooo\n",
            "sheep sounds: Baaaaaaa\n"
          ]
        }
      ]
    },
    {
      "cell_type": "code",
      "source": [
        "#Que_17. Create a class Book with attributes title, author, and year_published. Add a method get_book_info() that returns a formatted string with the book's details.\n",
        "\n",
        "class Book:\n",
        "  def __init__(self,title,author,year_published):\n",
        "    self.title = title\n",
        "    self.author = author\n",
        "    self.year_published = year_published\n",
        "\n",
        "  def get_book_info(self):\n",
        "    print (f\"The book is {self.title} by {self.author} and published in {self.year_published} \")\n"
      ],
      "metadata": {
        "id": "tCrKuSy3xNRV"
      },
      "execution_count": 115,
      "outputs": []
    },
    {
      "cell_type": "code",
      "source": [
        "book = Book(\"The dreams\",\"Saurabh_Ramteke\",1999)"
      ],
      "metadata": {
        "id": "eUVTjPK_zCLw"
      },
      "execution_count": 116,
      "outputs": []
    },
    {
      "cell_type": "code",
      "source": [
        "book.get_book_info()"
      ],
      "metadata": {
        "colab": {
          "base_uri": "https://localhost:8080/"
        },
        "id": "eV9lvV89zHKW",
        "outputId": "65b934be-3f24-451b-d2ea-2c777f7d4fdb"
      },
      "execution_count": 117,
      "outputs": [
        {
          "output_type": "stream",
          "name": "stdout",
          "text": [
            "The book is The dreams by Saurabh_Ramteke and published in 1999 \n"
          ]
        }
      ]
    },
    {
      "cell_type": "code",
      "source": [
        "# Que_18. Create a class House with attributes address and price. Create a derived class Mansion that adds an attribute number_of_rooms.\n",
        "\n",
        "class House:\n",
        "  def __init__(self,address,price):\n",
        "    self.address =address\n",
        "    self.price = price\n",
        "\n",
        "  def get_info(self):\n",
        "    return f\"The address of house is{self.address} and price is {self.price}\"\n",
        "\n",
        "\n",
        "class Mansion(House):\n",
        "  def __init__(self,address,price,number_of_rooms):\n",
        "    super().__init__(address,price)\n",
        "    self.number_of_rooms = number_of_rooms\n",
        "\n",
        "  def get_info(self):\n",
        "    base_info = super().get_info()\n",
        "    return f\"{base_info}, with {self.number_of_rooms} rooms\"\n"
      ],
      "metadata": {
        "id": "BAbfISakzrgF"
      },
      "execution_count": 131,
      "outputs": []
    },
    {
      "cell_type": "code",
      "source": [
        "house = House(\" near Taj Hotel 123\",50000000)\n",
        "mansion = Mansion(\" near Taj Hotel 123\",50000000,10)"
      ],
      "metadata": {
        "id": "fHEH4wdQ3HTt"
      },
      "execution_count": 137,
      "outputs": []
    },
    {
      "cell_type": "code",
      "source": [
        "print(house.get_info())\n",
        "print(mansion.get_info())"
      ],
      "metadata": {
        "colab": {
          "base_uri": "https://localhost:8080/"
        },
        "id": "x1DMJTC32xQW",
        "outputId": "8df36f62-30a9-4a49-a556-03c6dad3394a"
      },
      "execution_count": 138,
      "outputs": [
        {
          "output_type": "stream",
          "name": "stdout",
          "text": [
            "The address of house is near Taj Hotel 123 and price is 50000000\n",
            "The address of house is near Taj Hotel 123 and price is 50000000, with 10 rooms\n"
          ]
        }
      ]
    }
  ]
}